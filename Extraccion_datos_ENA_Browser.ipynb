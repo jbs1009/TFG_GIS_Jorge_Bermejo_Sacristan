{
 "cells": [
  {
   "cell_type": "code",
   "execution_count": null,
   "id": "bf22dfb6",
   "metadata": {},
   "outputs": [],
   "source": [
    "pip install wget"
   ]
  },
  {
   "cell_type": "code",
   "execution_count": null,
   "id": "97783a1c",
   "metadata": {},
   "outputs": [],
   "source": [
    "import subprocess\n",
    "import os"
   ]
  },
  {
   "cell_type": "code",
   "execution_count": null,
   "id": "466baa5c",
   "metadata": {},
   "outputs": [],
   "source": [
    "def extraer_secuencia(num_acceso, destino, metadatos = True):\n",
    "    \n",
    "    python_executable = r\"C:\\Users\\34601\\AppData\\Local\\Microsoft\\WindowsApps\\python.exe\"\n",
    "    script_path = r\"C:\\Users\\34601\\Documents\\CUARTO\\Trabajo Fin de Grado\\TFG_GIS_Jorge_Bermejo_Sacristan\\enaBrowserTools\\python3\\enaDataGet.py\"\n",
    "    output_file = os.path.join(destino, f\"{num_acceso}.fastq.gz\")\n",
    "    \n",
    "    if os.path.exists(output_file): \n",
    "        print(f\"El archivo {output_file} ya existe. Descarga omitida.\") \n",
    "        return\n",
    "    \n",
    "    if metadatos:\n",
    "        argumentos_bash = [python_executable, script_path, \"-f\", \"fastq\", \"-d\", destino, \"-m\", num_acceso]\n",
    "    else:\n",
    "        argumentos_bash = [python_executable, script_path, \"-f\", \"fastq\", \"-d\", destino, num_acceso]\n",
    "    \n",
    "    try:\n",
    "        subprocess.run(argumentos_bash, check=True)\n",
    "        print(f\"Descarga completada de la secuencia: {num_acceso}\")\n",
    "    except subprocess.CalledProcessError as e:\n",
    "        print(f\"Error al descargar {num_acceso}. Código de retorno: {e.returncode}\")"
   ]
  },
  {
   "cell_type": "code",
   "execution_count": null,
   "id": "77039db2",
   "metadata": {},
   "outputs": [],
   "source": [
    "num_acceso = \"SRR922052\"\n",
    "destino = r\"C:\\Users\\34601\\Documents\\CUARTO\\Trabajo Fin de Grado\\TFG_GIS_Jorge_Bermejo_Sacristan\\DATOS\""
   ]
  },
  {
   "cell_type": "code",
   "execution_count": null,
   "id": "ac95c16e",
   "metadata": {},
   "outputs": [],
   "source": [
    "extraer_secuencia(num_acceso, destino, metadatos = False)"
   ]
  },
  {
   "cell_type": "code",
   "execution_count": null,
   "id": "6416baad",
   "metadata": {},
   "outputs": [],
   "source": [
    "import wget\n",
    "\n",
    "def descargar_secuencia(num_acceso, destino, metadatos=True):\n",
    "\n",
    "    if not os.path.exists(destino):\n",
    "        os.makedirs(destino)\n",
    "        \n",
    "    secuencia_url = f\"https://www.ebi.ac.uk/ena/browser/api/fasta/{num_acceso}\"\n",
    "    secuencia_output = os.path.join(destino, f\"{num_acceso}.fasta\")\n",
    "    subprocess.run([\"wget\", \"-O\", secuencia_output, secuencia_url])\n",
    "    \n",
    "    if metadatos:\n",
    "\n",
    "        metadatos_url = f\"https://www.ebi.ac.uk/ena/browser/api/metadata/{num_acceso}\"\n",
    "        metadatos_output = os.path.join(destino, f\"{num_acceso}_metadata.txt\")\n",
    "        subprocess.run([\"wget\", \"-O\", metadatos_output, metadatos_url])\n",
    "\n"
   ]
  },
  {
   "cell_type": "code",
   "execution_count": null,
   "id": "90404065",
   "metadata": {},
   "outputs": [],
   "source": [
    "# Ejemplo de uso de la función\n",
    "num_acceso = \"SRR922052\"\n",
    "destino = r\"C:\\Users\\34601\\Documents\\CUARTO\\Trabajo Fin de Grado\\TFG_GIS_Jorge_Bermejo_Sacristan\\DATOS\"\n",
    "descargar_secuencia(num_acceso, destino)"
   ]
  },
  {
   "cell_type": "code",
   "execution_count": 1,
   "id": "991e493c",
   "metadata": {},
   "outputs": [
    {
     "name": "stdout",
     "output_type": "stream",
     "text": [
      "Secuencia FASTQ descargada: C:\\Users\\34601\\Documents\\CUARTO\\Trabajo Fin de Grado\\TFG_GIS_Jorge_Bermejo_Sacristan\\DATOS\\SRR922052.fastq.gz\n",
      "Metadatos de Sample Accession descargados: C:\\Users\\34601\\Documents\\CUARTO\\Trabajo Fin de Grado\\TFG_GIS_Jorge_Bermejo_Sacristan\\DATOS\\SAMN02213621_metadata.csv\n"
     ]
    }
   ],
   "source": [
    "import requests\n",
    "import os\n",
    "\n",
    "def descargar_secuencia_y_metadatos(run_accession, sample_accession, destino):\n",
    "    # Crear el directorio de destino si no existe\n",
    "    if not os.path.exists(destino):\n",
    "        os.makedirs(destino)\n",
    "    \n",
    "    # URLs para descargar la secuencia y los metadatos\n",
    "    secuencia_url = f\"https://www.ebi.ac.uk/ena/data/view/{run_accession}&display=fastq\"\n",
    "    metadatos_url = f\"https://www.ebi.ac.uk/ena/portal/api/filereport?accession={sample_accession}&result=sample&fields=all\"\n",
    "    \n",
    "    # Descargar la secuencia FASTQ\n",
    "    secuencia_output = os.path.join(destino, f\"{run_accession}.fastq.gz\")\n",
    "    response = requests.get(secuencia_url)\n",
    "    if response.status_code == 200:\n",
    "        with open(secuencia_output, 'wb') as file:\n",
    "            file.write(response.content)\n",
    "            print(f\"Secuencia FASTQ descargada: {secuencia_output}\")\n",
    "        \n",
    "    else:\n",
    "        print(f\"Error al descargar la secuencia FASTQ: {response.status_code} - {response.text}\")\n",
    "    \n",
    "    # Descargar los metadatos\n",
    "    metadatos_output = os.path.join(destino, f\"{sample_accession}_metadata.csv\")\n",
    "    response = requests.get(metadatos_url)\n",
    "    if response.status_code == 200:\n",
    "        with open(metadatos_output, 'wb') as file:\n",
    "            file.write(response.content)\n",
    "        print(f\"Metadatos de Sample Accession descargados: {metadatos_output}\")\n",
    "    else:\n",
    "        print(f\"Error al descargar los metadatos: {response.status_code} - {response.text}\")\n",
    "\n",
    "# Ejemplo de uso de la función\n",
    "run_accession = \"SRR922052\"  # Cambia esto por el Run Accession que necesitas\n",
    "sample_accession = \"SAMN02213621\"  # Cambia esto por el Sample Accession que necesitas\n",
    "destino = r\"C:\\Users\\34601\\Documents\\CUARTO\\Trabajo Fin de Grado\\TFG_GIS_Jorge_Bermejo_Sacristan\\DATOS\"  # Cambia esto por el directorio de destino deseado\n",
    "descargar_secuencia_y_metadatos(run_accession, sample_accession, destino)\n"
   ]
  }
 ],
 "metadata": {
  "kernelspec": {
   "display_name": "Python 3 (ipykernel)",
   "language": "python",
   "name": "python3"
  },
  "language_info": {
   "codemirror_mode": {
    "name": "ipython",
    "version": 3
   },
   "file_extension": ".py",
   "mimetype": "text/x-python",
   "name": "python",
   "nbconvert_exporter": "python",
   "pygments_lexer": "ipython3",
   "version": "3.11.5"
  }
 },
 "nbformat": 4,
 "nbformat_minor": 5
}
