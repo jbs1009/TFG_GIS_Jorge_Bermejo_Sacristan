{
 "cells": [
  {
   "cell_type": "code",
   "execution_count": 4,
   "id": "97783a1c",
   "metadata": {},
   "outputs": [],
   "source": [
    "import subprocess"
   ]
  },
  {
   "cell_type": "code",
   "execution_count": 13,
   "id": "98b0cedd",
   "metadata": {},
   "outputs": [],
   "source": [
    "def extraer_secuencia(num_acceso, destino, metadatos = True): \n",
    "    if metadatos:\n",
    "        argumentos_bash = [\"enaDataGet\", \"-f\", \"fastq\", \"-d\", destino, \"-m\", num_acceso]\n",
    "    else:\n",
    "        argumentos_bash = [\"enaDataGet\", \"-f\", \"fastq\", \"-d\", destino, num_acceso]\n",
    "    subprocess.run(argumentos_bash)"
   ]
  },
  {
   "cell_type": "code",
   "execution_count": null,
   "id": "ac95c16e",
   "metadata": {},
   "outputs": [],
   "source": [
    "extraer_secuencia(\"SAMN02213621\", r\"C:\\Users\\34601\\Documents\\CUARTO\\Trabajo Fin de Grado\\TFG_GIS_Jorge_Bermejo_Sacristan\\DATOS\")"
   ]
  }
 ],
 "metadata": {
  "kernelspec": {
   "display_name": "Python 3 (ipykernel)",
   "language": "python",
   "name": "python3"
  },
  "language_info": {
   "codemirror_mode": {
    "name": "ipython",
    "version": 3
   },
   "file_extension": ".py",
   "mimetype": "text/x-python",
   "name": "python",
   "nbconvert_exporter": "python",
   "pygments_lexer": "ipython3",
   "version": "3.11.5"
  }
 },
 "nbformat": 4,
 "nbformat_minor": 5
}
