{
 "cells": [
  {
   "cell_type": "code",
   "execution_count": null,
   "id": "c01df40f",
   "metadata": {},
   "outputs": [],
   "source": [
    "pip install wget"
   ]
  },
  {
   "cell_type": "code",
   "execution_count": null,
   "id": "97783a1c",
   "metadata": {},
   "outputs": [],
   "source": [
    "import subprocess\n",
    "import os"
   ]
  },
  {
   "cell_type": "code",
   "execution_count": null,
   "id": "aefaeb52",
   "metadata": {},
   "outputs": [],
   "source": [
    "def extraer_secuencia(num_acceso, destino, metadatos = True):\n",
    "    \n",
    "    python_executable = r\"C:\\Users\\34601\\AppData\\Local\\Microsoft\\WindowsApps\\python.exe\"\n",
    "    script_path = r\"C:\\Users\\34601\\Documents\\CUARTO\\Trabajo Fin de Grado\\TFG_GIS_Jorge_Bermejo_Sacristan\\enaBrowserTools\\python3\\enaDataGet.py\"\n",
    "    output_file = os.path.join(destino, f\"{num_acceso}.fastq.gz\")\n",
    "    \n",
    "    if os.path.exists(output_file): \n",
    "        print(f\"El archivo {output_file} ya existe. Descarga omitida.\") \n",
    "        return\n",
    "    \n",
    "    if metadatos:\n",
    "        argumentos_bash = [python_executable, script_path, \"-f\", \"fastq\", \"-d\", destino, \"-m\", num_acceso]\n",
    "    else:\n",
    "        argumentos_bash = [python_executable, script_path, \"-f\", \"fastq\", \"-d\", destino, num_acceso]\n",
    "    \n",
    "    try:\n",
    "        subprocess.run(argumentos_bash, check=True)\n",
    "        print(f\"Descarga completada de la secuencia: {num_acceso}\")\n",
    "    except subprocess.CalledProcessError as e:\n",
    "        print(f\"Error al descargar {num_acceso}. Código de retorno: {e.returncode}\")"
   ]
  },
  {
   "cell_type": "code",
   "execution_count": null,
   "id": "d6ca4086",
   "metadata": {},
   "outputs": [],
   "source": [
    "num_acceso = \"SAMN02213621\"\n",
    "destino = r\"C:\\Users\\34601\\Documents\\CUARTO\\Trabajo Fin de Grado\\TFG_GIS_Jorge_Bermejo_Sacristan\\DATOS\""
   ]
  },
  {
   "cell_type": "code",
   "execution_count": null,
   "id": "ac95c16e",
   "metadata": {},
   "outputs": [],
   "source": [
    "extraer_secuencia(num_acceso, destino, metadatos = False)"
   ]
  },
  {
   "cell_type": "code",
   "execution_count": null,
   "id": "2b52af98",
   "metadata": {},
   "outputs": [],
   "source": [
    "import wget\n",
    "\n",
    "def descargar_secuencia(num_acceso, destino, metadatos=True):\n",
    "\n",
    "    if not os.path.exists(destino):\n",
    "        os.makedirs(destino)\n",
    "        \n",
    "    secuencia_url = f\"https://www.ebi.ac.uk/ena/browser/api/fasta/{num_acceso}\"\n",
    "    secuencia_output = os.path.join(destino, f\"{num_acceso}.fasta\")\n",
    "    subprocess.run([\"wget\", \"-O\", secuencia_output, secuencia_url])\n",
    "    \n",
    "    if metadatos:\n",
    "\n",
    "        metadatos_url = f\"https://www.ebi.ac.uk/ena/browser/api/metadata/{num_acceso}\"\n",
    "        metadatos_output = os.path.join(destino, f\"{num_acceso}_metadata.txt\")\n",
    "        subprocess.run([\"wget\", \"-O\", metadatos_output, metadatos_url])\n",
    "\n"
   ]
  },
  {
   "cell_type": "code",
   "execution_count": null,
   "id": "536438d6",
   "metadata": {},
   "outputs": [],
   "source": [
    "# Ejemplo de uso de la función\n",
    "num_acceso = \"SAMN02213621\"\n",
    "destino = r\"C:\\Users\\34601\\Documents\\CUARTO\\Trabajo Fin de Grado\\TFG_GIS_Jorge_Bermejo_Sacristan\\DATOS\"\n",
    "descargar_secuencia(num_acceso, destino)"
   ]
  }
 ],
 "metadata": {
  "kernelspec": {
   "display_name": "Python 3 (ipykernel)",
   "language": "python",
   "name": "python3"
  },
  "language_info": {
   "codemirror_mode": {
    "name": "ipython",
    "version": 3
   },
   "file_extension": ".py",
   "mimetype": "text/x-python",
   "name": "python",
   "nbconvert_exporter": "python",
   "pygments_lexer": "ipython3",
   "version": "3.11.5"
  }
 },
 "nbformat": 4,
 "nbformat_minor": 5
}
