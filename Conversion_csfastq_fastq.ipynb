{
 "cells": [
  {
   "cell_type": "code",
   "execution_count": null,
   "id": "ef0e492d",
   "metadata": {},
   "outputs": [],
   "source": [
    "ruta_csfastq = r\"C:\\Users\\34601\\Downloads\\SRR922052.fastq\"\n",
    "ruta_fastq = r\"C:\\Users\\34601\\Documents\\CUARTO\\Pruebas Código\\SRR922052.fastq\""
   ]
  },
  {
   "cell_type": "code",
   "execution_count": null,
   "id": "808df2b3",
   "metadata": {},
   "outputs": [],
   "source": [
    "def read_fastq(ruta):\n",
    "    \n",
    "    with open(ruta, \"r\") as file:\n",
    "        \n",
    "        while True:\n",
    "            \n",
    "            identificador = file.readline().strip()\n",
    "            \n",
    "            if not identificador:\n",
    "                break\n",
    "            \n",
    "            secuencia = file.readline().strip()\n",
    "            separador = file.readline().strip()\n",
    "            calidad = file.readline().strip()\n",
    "            \n",
    "            print(identificador)\n",
    "            print(secuencia)\n",
    "            print(separador)\n",
    "            print(calidad)\n",
    "            break\n",
    "\n",
    "#             yield identificador, secuencia, separador, calidad"
   ]
  },
  {
   "cell_type": "code",
   "execution_count": null,
   "id": "b84039ad",
   "metadata": {},
   "outputs": [],
   "source": [
    "read_fastq(ruta_csfastq)"
   ]
  },
  {
   "cell_type": "code",
   "execution_count": null,
   "id": "340f318f",
   "metadata": {},
   "outputs": [],
   "source": [
    "def convierte_seq(secuencia):\n",
    "    \n",
    "    dicc_convers = {\"T0\": \"T\", \"T1\": \"G\", \"T2\": \"C\", \"T3\": \"A\", \"T.\": \"N\",\n",
    "        \"C0\": \"C\", \"C1\": \"A\", \"C2\": \"T\", \"C3\": \"G\", \"C.\": \"N\",\n",
    "        \"G0\": \"G\", \"G1\": \"T\", \"G2\": \"A\", \"G3\": \"C\", \"G.\": \"N\",\n",
    "        \"A0\": \"A\", \"A1\": \"C\", \"A2\": \"G\", \"A3\": \"T\", \"A.\": \"N\",\n",
    "        \"N0\": \"N\", \"N1\": \"N\", \"N2\": \"N\", \"N3\": \"N\", \"N.\": \"N\"}\n",
    "    \n",
    "    base_actual = secuencia[0]\n",
    "    \n",
    "    seq_fastq = [base_actual]\n",
    "    \n",
    "    for pos in secuencia[1:]:\n",
    "        base = dicc_convers[str(base_actual)+str(pos)]\n",
    "        seq_fastq.append(base)\n",
    "        base_actual = base\n",
    "        \n",
    "    secuencia_fastq = ''.join(seq_fastq)\n",
    "    \n",
    "    return secuencia_fastq"
   ]
  },
  {
   "cell_type": "code",
   "execution_count": null,
   "id": "cf732703",
   "metadata": {},
   "outputs": [],
   "source": [
    "def csfastq2fastq(archivo_csfastq, archivo_fastq):\n",
    "    \n",
    "    with open(archivo_csfastq, \"r\") as archivo_csfastq, open(archivo_fastq, \"w\") as archivo_fastq:\n",
    "        while True:\n",
    "            \n",
    "            identificador = archivo_csfastq.readline().strip()\n",
    "            \n",
    "            if not identificador:\n",
    "                break\n",
    "            \n",
    "            secuencia = archivo_csfastq.readline().strip()\n",
    "            separador = archivo_csfastq.readline().strip()\n",
    "            calidad = archivo_csfastq.readline().strip()\n",
    "            \n",
    "            secuencia_fastq = convierte_seq(secuencia)\n",
    "            \n",
    "            archivo_fastq.write(f\"{identificador}\\n{secuencia_fastq}\\n{separador}\\n{calidad}\\n\")"
   ]
  },
  {
   "cell_type": "code",
   "execution_count": null,
   "id": "00ab2546",
   "metadata": {},
   "outputs": [],
   "source": [
    "csfastq2fastq(ruta_csfastq, ruta_fastq)"
   ]
  },
  {
   "cell_type": "code",
   "execution_count": null,
   "id": "869c184b",
   "metadata": {},
   "outputs": [],
   "source": [
    "read_fastq(ruta_fastq)"
   ]
  }
 ],
 "metadata": {
  "kernelspec": {
   "display_name": "Python 3 (ipykernel)",
   "language": "python",
   "name": "python3"
  },
  "language_info": {
   "codemirror_mode": {
    "name": "ipython",
    "version": 3
   },
   "file_extension": ".py",
   "mimetype": "text/x-python",
   "name": "python",
   "nbconvert_exporter": "python",
   "pygments_lexer": "ipython3",
   "version": "3.9.7"
  }
 },
 "nbformat": 4,
 "nbformat_minor": 5
}
