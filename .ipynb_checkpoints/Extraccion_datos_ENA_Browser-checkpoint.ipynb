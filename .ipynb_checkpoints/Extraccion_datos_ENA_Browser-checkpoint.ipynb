{
 "cells": [
  {
   "cell_type": "code",
   "execution_count": 13,
   "id": "80542e17",
   "metadata": {},
   "outputs": [],
   "source": [
    "from enaBrowserTools import enaDataGet, enaGroupGet"
   ]
  },
  {
   "cell_type": "code",
   "execution_count": 14,
   "id": "98b0cedd",
   "metadata": {},
   "outputs": [],
   "source": [
    "def extraer_secuencias(num_acceso, destino): \n",
    "    enaDataGet(accession = num_acceso, format = 'fastq', destination = destino, metadata = True)"
   ]
  }
 ],
 "metadata": {
  "kernelspec": {
   "display_name": "Python 3 (ipykernel)",
   "language": "python",
   "name": "python3"
  },
  "language_info": {
   "codemirror_mode": {
    "name": "ipython",
    "version": 3
   },
   "file_extension": ".py",
   "mimetype": "text/x-python",
   "name": "python",
   "nbconvert_exporter": "python",
   "pygments_lexer": "ipython3",
   "version": "3.11.5"
  }
 },
 "nbformat": 4,
 "nbformat_minor": 5
}
